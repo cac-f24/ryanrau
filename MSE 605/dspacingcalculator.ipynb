{
 "cells": [
  {
   "cell_type": "code",
   "execution_count": 3,
   "metadata": {},
   "outputs": [],
   "source": [
    "import numpy as np"
   ]
  },
  {
   "cell_type": "code",
   "execution_count": 4,
   "metadata": {},
   "outputs": [],
   "source": [
    "def calculate_d_spacing_from_reciprocal(metric_tensor_reciprocal, h, k, l):\n",
    "    \"\"\"\n",
    "    Calculate the real space d-spacing from the reciprocal metric tensor.\n",
    "\n",
    "    Parameters:\n",
    "    metric_tensor_reciprocal (numpy.ndarray): 3x3 reciprocal metric tensor of the crystal lattice.\n",
    "    h, k, l (int): Miller indices.\n",
    "\n",
    "    Returns:\n",
    "    float: The real space d-spacing for the given Miller indices and reciprocal metric tensor.\n",
    "    \"\"\"\n",
    "    hkl = np.array([h, k, l])\n",
    "    G_vector = hkl @ np.linalg.inv(metric_tensor_reciprocal)\n",
    "    d = 1 / np.linalg.norm(G_vector)\n",
    "    return d"
   ]
  },
  {
   "cell_type": "code",
   "execution_count": 5,
   "metadata": {},
   "outputs": [
    {
     "name": "stdout",
     "output_type": "stream",
     "text": [
      "The real space d-spacing for the diamond lattice with lattice constant 3.57 Å and Miller indices (1, 1, 1) is: 0.04530049425178901 Å\n"
     ]
    }
   ],
   "source": [
    "# Example usage\n",
    "# Assuming the reciprocal metric tensor for a cubic system like diamond\n",
    "a = 3.57  # Lattice constant for diamond in angstroms\n",
    "G_star = np.array([[3/a**2, -1/a**2, -1/a**2], [-1/a**2, 3/a**2, -1/a**2], [-1/a**2, -1/a**2, 3/a**2]])  # Reciprocal metric tensor for cubic system\n",
    "h, k, l = 1, 1, 1  # Example Miller indices\n",
    "\n",
    "d_spacing = calculate_d_spacing_from_reciprocal(G_star, h, k, l)\n",
    "print(f\"The real space d-spacing for the diamond lattice with lattice constant {a} Å and Miller indices ({h}, {k}, {l}) is: {d_spacing} Å\")"
   ]
  }
 ],
 "metadata": {
  "kernelspec": {
   "display_name": "dev",
   "language": "python",
   "name": "python3"
  },
  "language_info": {
   "codemirror_mode": {
    "name": "ipython",
    "version": 3
   },
   "file_extension": ".py",
   "mimetype": "text/x-python",
   "name": "python",
   "nbconvert_exporter": "python",
   "pygments_lexer": "ipython3",
   "version": "3.10.9"
  }
 },
 "nbformat": 4,
 "nbformat_minor": 2
}
